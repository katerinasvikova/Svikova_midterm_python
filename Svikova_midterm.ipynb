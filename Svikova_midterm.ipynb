{
 "cells": [
  {
   "cell_type": "code",
   "execution_count": 1,
   "metadata": {},
   "outputs": [],
   "source": [
    "import math\n",
    "import numpy as np\n",
    "import pandas as pd\n",
    "import seaborn as sns\n",
    "import matplotlib.pyplot as plt\n",
    "import scipy.stats as stats\n",
    "%matplotlib inline"
   ]
  },
  {
   "cell_type": "code",
   "execution_count": 8,
   "metadata": {},
   "outputs": [],
   "source": [
    "ball = pd.read_csv('BALL.csv', parse_dates=[\"Date\"], date_format=\"%d-%m-%y\")\n",
    "ftnt = pd.read_csv('FTNT.csv', parse_dates=[\"Date\"], date_format=\"%d-%m-%y\")\n",
    "grmn = pd.read_csv('GRMN.csv', parse_dates=[\"Date\"], date_format=\"%d-%m-%y\")\n",
    "nke = pd.read_csv('NKE.csv', parse_dates=[\"Date\"], date_format=\"%d-%m-%y\")\n",
    "vz = pd.read_csv('VZ.csv', parse_dates=[\"Date\"], date_format=\"%d-%m-%y\")"
   ]
  },
  {
   "cell_type": "code",
   "execution_count": 5,
   "metadata": {},
   "outputs": [
    {
     "data": {
      "text/html": [
       "<div>\n",
       "<style scoped>\n",
       "    .dataframe tbody tr th:only-of-type {\n",
       "        vertical-align: middle;\n",
       "    }\n",
       "\n",
       "    .dataframe tbody tr th {\n",
       "        vertical-align: top;\n",
       "    }\n",
       "\n",
       "    .dataframe thead th {\n",
       "        text-align: right;\n",
       "    }\n",
       "</style>\n",
       "<table border=\"1\" class=\"dataframe\">\n",
       "  <thead>\n",
       "    <tr style=\"text-align: right;\">\n",
       "      <th></th>\n",
       "      <th>Date</th>\n",
       "      <th>Open</th>\n",
       "      <th>High</th>\n",
       "      <th>Low</th>\n",
       "      <th>Close</th>\n",
       "      <th>Volume</th>\n",
       "      <th>Dividends</th>\n",
       "      <th>Stock Splits</th>\n",
       "    </tr>\n",
       "  </thead>\n",
       "  <tbody>\n",
       "    <tr>\n",
       "      <th>0</th>\n",
       "      <td>2017-01-03</td>\n",
       "      <td>34.987</td>\n",
       "      <td>35.191</td>\n",
       "      <td>34.673</td>\n",
       "      <td>35.006</td>\n",
       "      <td>1830600</td>\n",
       "      <td>0.0</td>\n",
       "      <td>0.0</td>\n",
       "    </tr>\n",
       "    <tr>\n",
       "      <th>1</th>\n",
       "      <td>2017-01-04</td>\n",
       "      <td>35.033</td>\n",
       "      <td>35.565</td>\n",
       "      <td>35.015</td>\n",
       "      <td>35.537</td>\n",
       "      <td>2219800</td>\n",
       "      <td>0.0</td>\n",
       "      <td>0.0</td>\n",
       "    </tr>\n",
       "    <tr>\n",
       "      <th>2</th>\n",
       "      <td>2017-01-05</td>\n",
       "      <td>35.445</td>\n",
       "      <td>35.634</td>\n",
       "      <td>35.255</td>\n",
       "      <td>35.519</td>\n",
       "      <td>1965800</td>\n",
       "      <td>0.0</td>\n",
       "      <td>0.0</td>\n",
       "    </tr>\n",
       "    <tr>\n",
       "      <th>3</th>\n",
       "      <td>2017-01-06</td>\n",
       "      <td>35.551</td>\n",
       "      <td>35.745</td>\n",
       "      <td>35.408</td>\n",
       "      <td>35.676</td>\n",
       "      <td>1001800</td>\n",
       "      <td>0.0</td>\n",
       "      <td>0.0</td>\n",
       "    </tr>\n",
       "    <tr>\n",
       "      <th>4</th>\n",
       "      <td>2017-01-09</td>\n",
       "      <td>35.616</td>\n",
       "      <td>35.699</td>\n",
       "      <td>35.057</td>\n",
       "      <td>35.112</td>\n",
       "      <td>1329800</td>\n",
       "      <td>0.0</td>\n",
       "      <td>0.0</td>\n",
       "    </tr>\n",
       "    <tr>\n",
       "      <th>...</th>\n",
       "      <td>...</td>\n",
       "      <td>...</td>\n",
       "      <td>...</td>\n",
       "      <td>...</td>\n",
       "      <td>...</td>\n",
       "      <td>...</td>\n",
       "      <td>...</td>\n",
       "      <td>...</td>\n",
       "    </tr>\n",
       "    <tr>\n",
       "      <th>1505</th>\n",
       "      <td>2022-12-23</td>\n",
       "      <td>49.860</td>\n",
       "      <td>50.446</td>\n",
       "      <td>49.558</td>\n",
       "      <td>50.407</td>\n",
       "      <td>745700</td>\n",
       "      <td>0.0</td>\n",
       "      <td>0.0</td>\n",
       "    </tr>\n",
       "    <tr>\n",
       "      <th>1506</th>\n",
       "      <td>2022-12-27</td>\n",
       "      <td>50.212</td>\n",
       "      <td>50.768</td>\n",
       "      <td>49.743</td>\n",
       "      <td>50.563</td>\n",
       "      <td>975300</td>\n",
       "      <td>0.0</td>\n",
       "      <td>0.0</td>\n",
       "    </tr>\n",
       "    <tr>\n",
       "      <th>1507</th>\n",
       "      <td>2022-12-28</td>\n",
       "      <td>50.280</td>\n",
       "      <td>50.846</td>\n",
       "      <td>49.313</td>\n",
       "      <td>49.382</td>\n",
       "      <td>984100</td>\n",
       "      <td>0.0</td>\n",
       "      <td>0.0</td>\n",
       "    </tr>\n",
       "    <tr>\n",
       "      <th>1508</th>\n",
       "      <td>2022-12-29</td>\n",
       "      <td>49.743</td>\n",
       "      <td>50.719</td>\n",
       "      <td>49.597</td>\n",
       "      <td>50.397</td>\n",
       "      <td>812700</td>\n",
       "      <td>0.0</td>\n",
       "      <td>0.0</td>\n",
       "    </tr>\n",
       "    <tr>\n",
       "      <th>1509</th>\n",
       "      <td>2022-12-30</td>\n",
       "      <td>49.948</td>\n",
       "      <td>50.251</td>\n",
       "      <td>49.431</td>\n",
       "      <td>49.929</td>\n",
       "      <td>982800</td>\n",
       "      <td>0.0</td>\n",
       "      <td>0.0</td>\n",
       "    </tr>\n",
       "  </tbody>\n",
       "</table>\n",
       "<p>1510 rows × 8 columns</p>\n",
       "</div>"
      ],
      "text/plain": [
       "            Date    Open    High     Low   Close   Volume  Dividends  \\\n",
       "0     2017-01-03  34.987  35.191  34.673  35.006  1830600        0.0   \n",
       "1     2017-01-04  35.033  35.565  35.015  35.537  2219800        0.0   \n",
       "2     2017-01-05  35.445  35.634  35.255  35.519  1965800        0.0   \n",
       "3     2017-01-06  35.551  35.745  35.408  35.676  1001800        0.0   \n",
       "4     2017-01-09  35.616  35.699  35.057  35.112  1329800        0.0   \n",
       "...          ...     ...     ...     ...     ...      ...        ...   \n",
       "1505  2022-12-23  49.860  50.446  49.558  50.407   745700        0.0   \n",
       "1506  2022-12-27  50.212  50.768  49.743  50.563   975300        0.0   \n",
       "1507  2022-12-28  50.280  50.846  49.313  49.382   984100        0.0   \n",
       "1508  2022-12-29  49.743  50.719  49.597  50.397   812700        0.0   \n",
       "1509  2022-12-30  49.948  50.251  49.431  49.929   982800        0.0   \n",
       "\n",
       "      Stock Splits  \n",
       "0              0.0  \n",
       "1              0.0  \n",
       "2              0.0  \n",
       "3              0.0  \n",
       "4              0.0  \n",
       "...            ...  \n",
       "1505           0.0  \n",
       "1506           0.0  \n",
       "1507           0.0  \n",
       "1508           0.0  \n",
       "1509           0.0  \n",
       "\n",
       "[1510 rows x 8 columns]"
      ]
     },
     "execution_count": 5,
     "metadata": {},
     "output_type": "execute_result"
    }
   ],
   "source": [
    "ball"
   ]
  },
  {
   "cell_type": "markdown",
   "metadata": {},
   "source": [
    "1) Is there a company that has no difference between the Open and Close \n",
    "columns? What does it mean from the financial point of view for the stock (you \n",
    "can get bonus partial points)? "
   ]
  },
  {
   "cell_type": "markdown",
   "metadata": {},
   "source": [
    "Yes. These companies has no difference between the Open and Close columns: BALL, GRMN, VZ"
   ]
  },
  {
   "cell_type": "code",
   "execution_count": 9,
   "metadata": {},
   "outputs": [
    {
     "data": {
      "text/plain": [
       "11"
      ]
     },
     "execution_count": 9,
     "metadata": {},
     "output_type": "execute_result"
    }
   ],
   "source": [
    "len(ball[ball['Open'] == ball['Close']])"
   ]
  },
  {
   "cell_type": "code",
   "execution_count": 10,
   "metadata": {},
   "outputs": [
    {
     "data": {
      "text/plain": [
       "0"
      ]
     },
     "execution_count": 10,
     "metadata": {},
     "output_type": "execute_result"
    }
   ],
   "source": [
    "len(ftnt[ball['Open'] == ftnt['Close']])"
   ]
  },
  {
   "cell_type": "code",
   "execution_count": 12,
   "metadata": {},
   "outputs": [
    {
     "data": {
      "text/plain": [
       "8"
      ]
     },
     "execution_count": 12,
     "metadata": {},
     "output_type": "execute_result"
    }
   ],
   "source": [
    "len(grmn[grmn['Open'] == grmn['Close']])"
   ]
  },
  {
   "cell_type": "code",
   "execution_count": 11,
   "metadata": {},
   "outputs": [
    {
     "data": {
      "text/plain": [
       "0"
      ]
     },
     "execution_count": 11,
     "metadata": {},
     "output_type": "execute_result"
    }
   ],
   "source": [
    "len(nke[ball['Open'] == nke['Close']])"
   ]
  },
  {
   "cell_type": "code",
   "execution_count": 13,
   "metadata": {},
   "outputs": [
    {
     "data": {
      "text/plain": [
       "18"
      ]
     },
     "execution_count": 13,
     "metadata": {},
     "output_type": "execute_result"
    }
   ],
   "source": [
    "len(vz[vz['Open'] == vz['Close']])"
   ]
  },
  {
   "cell_type": "markdown",
   "metadata": {},
   "source": [
    "2)What is the highest and lowest price (Close) each company recorded? "
   ]
  },
  {
   "cell_type": "code",
   "execution_count": 16,
   "metadata": {},
   "outputs": [
    {
     "name": "stdout",
     "output_type": "stream",
     "text": [
      "BALL: 33.055\n",
      "FTNT: 6.024\n",
      "GRMN: 38.332\n",
      "NKE: 47.039\n",
      "VZ: 29.461\n"
     ]
    }
   ],
   "source": [
    "print(f'BALL: {ball['Close'].min()}')\n",
    "print(f'FTNT: {ftnt['Close'].min()}')\n",
    "print(f'GRMN: {grmn['Close'].min()}')\n",
    "print(f'NKE: {nke['Close'].min()}')\n",
    "print(f'VZ: {vz['Close'].min()}')"
   ]
  },
  {
   "cell_type": "markdown",
   "metadata": {},
   "source": [
    "3) Calculate logarithmic returns from Close. For each company report on \n",
    "its, min, man, mean, median of the return distribution. "
   ]
  },
  {
   "cell_type": "code",
   "execution_count": 90,
   "metadata": {},
   "outputs": [],
   "source": [
    "ball['lret'] = np.log(df['Close'] / df['Close'].shift(1)) #calculating logarithmic returns\n",
    "ball = ball.dropna() #droping first row as it has NA\n",
    "\n",
    "#Doing the same for the rest\n",
    "ftnt['lret'] = np.log(ftnt['Close'] / ftnt['Close'].shift(1))\n",
    "ftnt = ftnt.dropna()\n",
    "grmn['lret'] = np.log(grmn['Close'] / grmn['Close'].shift(1))\n",
    "grmn = grmn.dropna()\n",
    "nke['lret'] = np.log(nke['Close'] / nke['Close'].shift(1))\n",
    "nke = nke.dropna()\n",
    "vz['lret'] = np.log(vz['Close'] / vz['Close'].shift(1))\n",
    "vz = vz.dropna()"
   ]
  },
  {
   "cell_type": "code",
   "execution_count": 91,
   "metadata": {},
   "outputs": [
    {
     "data": {
      "text/html": [
       "<div>\n",
       "<style scoped>\n",
       "    .dataframe tbody tr th:only-of-type {\n",
       "        vertical-align: middle;\n",
       "    }\n",
       "\n",
       "    .dataframe tbody tr th {\n",
       "        vertical-align: top;\n",
       "    }\n",
       "\n",
       "    .dataframe thead th {\n",
       "        text-align: right;\n",
       "    }\n",
       "</style>\n",
       "<table border=\"1\" class=\"dataframe\">\n",
       "  <thead>\n",
       "    <tr style=\"text-align: right;\">\n",
       "      <th></th>\n",
       "      <th>Date</th>\n",
       "      <th>Open</th>\n",
       "      <th>High</th>\n",
       "      <th>Low</th>\n",
       "      <th>Close</th>\n",
       "      <th>Volume</th>\n",
       "      <th>Dividends</th>\n",
       "      <th>Stock Splits</th>\n",
       "      <th>lret</th>\n",
       "    </tr>\n",
       "  </thead>\n",
       "  <tbody>\n",
       "    <tr>\n",
       "      <th>1</th>\n",
       "      <td>2017-01-04</td>\n",
       "      <td>35.033</td>\n",
       "      <td>35.565</td>\n",
       "      <td>35.015</td>\n",
       "      <td>35.537</td>\n",
       "      <td>2219800</td>\n",
       "      <td>0.0</td>\n",
       "      <td>0.0</td>\n",
       "      <td>0.015055</td>\n",
       "    </tr>\n",
       "    <tr>\n",
       "      <th>2</th>\n",
       "      <td>2017-01-05</td>\n",
       "      <td>35.445</td>\n",
       "      <td>35.634</td>\n",
       "      <td>35.255</td>\n",
       "      <td>35.519</td>\n",
       "      <td>1965800</td>\n",
       "      <td>0.0</td>\n",
       "      <td>0.0</td>\n",
       "      <td>-0.000507</td>\n",
       "    </tr>\n",
       "    <tr>\n",
       "      <th>3</th>\n",
       "      <td>2017-01-06</td>\n",
       "      <td>35.551</td>\n",
       "      <td>35.745</td>\n",
       "      <td>35.408</td>\n",
       "      <td>35.676</td>\n",
       "      <td>1001800</td>\n",
       "      <td>0.0</td>\n",
       "      <td>0.0</td>\n",
       "      <td>0.004410</td>\n",
       "    </tr>\n",
       "    <tr>\n",
       "      <th>4</th>\n",
       "      <td>2017-01-09</td>\n",
       "      <td>35.616</td>\n",
       "      <td>35.699</td>\n",
       "      <td>35.057</td>\n",
       "      <td>35.112</td>\n",
       "      <td>1329800</td>\n",
       "      <td>0.0</td>\n",
       "      <td>0.0</td>\n",
       "      <td>-0.015935</td>\n",
       "    </tr>\n",
       "    <tr>\n",
       "      <th>5</th>\n",
       "      <td>2017-01-10</td>\n",
       "      <td>35.038</td>\n",
       "      <td>35.306</td>\n",
       "      <td>34.779</td>\n",
       "      <td>34.946</td>\n",
       "      <td>2671200</td>\n",
       "      <td>0.0</td>\n",
       "      <td>0.0</td>\n",
       "      <td>-0.004739</td>\n",
       "    </tr>\n",
       "    <tr>\n",
       "      <th>...</th>\n",
       "      <td>...</td>\n",
       "      <td>...</td>\n",
       "      <td>...</td>\n",
       "      <td>...</td>\n",
       "      <td>...</td>\n",
       "      <td>...</td>\n",
       "      <td>...</td>\n",
       "      <td>...</td>\n",
       "      <td>...</td>\n",
       "    </tr>\n",
       "    <tr>\n",
       "      <th>1505</th>\n",
       "      <td>2022-12-23</td>\n",
       "      <td>49.860</td>\n",
       "      <td>50.446</td>\n",
       "      <td>49.558</td>\n",
       "      <td>50.407</td>\n",
       "      <td>745700</td>\n",
       "      <td>0.0</td>\n",
       "      <td>0.0</td>\n",
       "      <td>0.009348</td>\n",
       "    </tr>\n",
       "    <tr>\n",
       "      <th>1506</th>\n",
       "      <td>2022-12-27</td>\n",
       "      <td>50.212</td>\n",
       "      <td>50.768</td>\n",
       "      <td>49.743</td>\n",
       "      <td>50.563</td>\n",
       "      <td>975300</td>\n",
       "      <td>0.0</td>\n",
       "      <td>0.0</td>\n",
       "      <td>0.003090</td>\n",
       "    </tr>\n",
       "    <tr>\n",
       "      <th>1507</th>\n",
       "      <td>2022-12-28</td>\n",
       "      <td>50.280</td>\n",
       "      <td>50.846</td>\n",
       "      <td>49.313</td>\n",
       "      <td>49.382</td>\n",
       "      <td>984100</td>\n",
       "      <td>0.0</td>\n",
       "      <td>0.0</td>\n",
       "      <td>-0.023634</td>\n",
       "    </tr>\n",
       "    <tr>\n",
       "      <th>1508</th>\n",
       "      <td>2022-12-29</td>\n",
       "      <td>49.743</td>\n",
       "      <td>50.719</td>\n",
       "      <td>49.597</td>\n",
       "      <td>50.397</td>\n",
       "      <td>812700</td>\n",
       "      <td>0.0</td>\n",
       "      <td>0.0</td>\n",
       "      <td>0.020346</td>\n",
       "    </tr>\n",
       "    <tr>\n",
       "      <th>1509</th>\n",
       "      <td>2022-12-30</td>\n",
       "      <td>49.948</td>\n",
       "      <td>50.251</td>\n",
       "      <td>49.431</td>\n",
       "      <td>49.929</td>\n",
       "      <td>982800</td>\n",
       "      <td>0.0</td>\n",
       "      <td>0.0</td>\n",
       "      <td>-0.009330</td>\n",
       "    </tr>\n",
       "  </tbody>\n",
       "</table>\n",
       "<p>1509 rows × 9 columns</p>\n",
       "</div>"
      ],
      "text/plain": [
       "           Date    Open    High     Low   Close   Volume  Dividends  \\\n",
       "1    2017-01-04  35.033  35.565  35.015  35.537  2219800        0.0   \n",
       "2    2017-01-05  35.445  35.634  35.255  35.519  1965800        0.0   \n",
       "3    2017-01-06  35.551  35.745  35.408  35.676  1001800        0.0   \n",
       "4    2017-01-09  35.616  35.699  35.057  35.112  1329800        0.0   \n",
       "5    2017-01-10  35.038  35.306  34.779  34.946  2671200        0.0   \n",
       "...         ...     ...     ...     ...     ...      ...        ...   \n",
       "1505 2022-12-23  49.860  50.446  49.558  50.407   745700        0.0   \n",
       "1506 2022-12-27  50.212  50.768  49.743  50.563   975300        0.0   \n",
       "1507 2022-12-28  50.280  50.846  49.313  49.382   984100        0.0   \n",
       "1508 2022-12-29  49.743  50.719  49.597  50.397   812700        0.0   \n",
       "1509 2022-12-30  49.948  50.251  49.431  49.929   982800        0.0   \n",
       "\n",
       "      Stock Splits      lret  \n",
       "1              0.0  0.015055  \n",
       "2              0.0 -0.000507  \n",
       "3              0.0  0.004410  \n",
       "4              0.0 -0.015935  \n",
       "5              0.0 -0.004739  \n",
       "...            ...       ...  \n",
       "1505           0.0  0.009348  \n",
       "1506           0.0  0.003090  \n",
       "1507           0.0 -0.023634  \n",
       "1508           0.0  0.020346  \n",
       "1509           0.0 -0.009330  \n",
       "\n",
       "[1509 rows x 9 columns]"
      ]
     },
     "execution_count": 91,
     "metadata": {},
     "output_type": "execute_result"
    }
   ],
   "source": [
    "ball"
   ]
  },
  {
   "cell_type": "code",
   "execution_count": null,
   "metadata": {},
   "outputs": [],
   "source": [
    "#function that calculates the statistics\n",
    "def company_stats_lret(company):\n",
    "    min = company.min()\n",
    "    max = company.max()\n",
    "    median = company.median()\n",
    "    mean = company.mean()\n",
    "    print(f'Minimum logarithmic returns: {min} ')\n",
    "    print(f'Maximum logarithmic returns: {max} ')\n",
    "    print(f'Mean logarithmic returns: {mean} ')\n",
    "    print(f'Minimum logarithmic returns for: {median} ')"
   ]
  },
  {
   "cell_type": "code",
   "execution_count": 29,
   "metadata": {},
   "outputs": [
    {
     "name": "stdout",
     "output_type": "stream",
     "text": [
      "Minimum logarithmic returns: -0.20558368655180934 \n",
      "Maximum logarithmic returns: 0.11413313771258046 \n",
      "Mean logarithmic returns: 0.0002353098216726693 \n",
      "Minimum logarithmic returns for: 0.0006400706503358677 \n"
     ]
    }
   ],
   "source": [
    "#BALL\n",
    "company_stats_lret(ball['lret'])"
   ]
  },
  {
   "cell_type": "code",
   "execution_count": 30,
   "metadata": {},
   "outputs": [
    {
     "name": "stdout",
     "output_type": "stream",
     "text": [
      "Minimum logarithmic returns: -0.17832193237823535 \n",
      "Maximum logarithmic returns: 0.19249749035815425 \n",
      "Mean logarithmic returns: 0.0013875555905188627 \n",
      "Minimum logarithmic returns for: 0.0022701485345390775 \n"
     ]
    }
   ],
   "source": [
    "#FTNT\n",
    "company_stats_lret(ftnt['lret'])"
   ]
  },
  {
   "cell_type": "code",
   "execution_count": 32,
   "metadata": {},
   "outputs": [
    {
     "name": "stdout",
     "output_type": "stream",
     "text": [
      "Minimum logarithmic returns: -0.09956749519652347 \n",
      "Maximum logarithmic returns: 0.1573102985833032 \n",
      "Mean logarithmic returns: 0.0005298645437981782 \n",
      "Minimum logarithmic returns for: 0.0008209448464918181 \n"
     ]
    }
   ],
   "source": [
    "#GRMN\n",
    "company_stats_lret(grmn['lret'])"
   ]
  },
  {
   "cell_type": "code",
   "execution_count": 33,
   "metadata": {},
   "outputs": [
    {
     "name": "stdout",
     "output_type": "stream",
     "text": [
      "Minimum logarithmic returns: -0.13705996363482498 \n",
      "Maximum logarithmic returns: 0.14436900098538724 \n",
      "Mean logarithmic returns: 0.0005792551522204034 \n",
      "Minimum logarithmic returns for: 0.000565864714898474 \n"
     ]
    }
   ],
   "source": [
    "#NKE\n",
    "company_stats_lret(nke['lret'])"
   ]
  },
  {
   "cell_type": "code",
   "execution_count": 34,
   "metadata": {},
   "outputs": [
    {
     "name": "stdout",
     "output_type": "stream",
     "text": [
      "Minimum logarithmic returns: -0.06972600934970156 \n",
      "Maximum logarithmic returns: 0.07398617689140713 \n",
      "Mean logarithmic returns: -3.325743995531479e-05 \n",
      "Minimum logarithmic returns for: 0.00015049717846183318 \n"
     ]
    }
   ],
   "source": [
    "#VZ\n",
    "company_stats_lret(vz['lret'])"
   ]
  },
  {
   "cell_type": "markdown",
   "metadata": {},
   "source": [
    "4. When did each company record the highest gain and highest loss for the day? "
   ]
  },
  {
   "cell_type": "code",
   "execution_count": 35,
   "metadata": {},
   "outputs": [
    {
     "data": {
      "text/html": [
       "<div>\n",
       "<style scoped>\n",
       "    .dataframe tbody tr th:only-of-type {\n",
       "        vertical-align: middle;\n",
       "    }\n",
       "\n",
       "    .dataframe tbody tr th {\n",
       "        vertical-align: top;\n",
       "    }\n",
       "\n",
       "    .dataframe thead th {\n",
       "        text-align: right;\n",
       "    }\n",
       "</style>\n",
       "<table border=\"1\" class=\"dataframe\">\n",
       "  <thead>\n",
       "    <tr style=\"text-align: right;\">\n",
       "      <th></th>\n",
       "      <th>Date</th>\n",
       "      <th>Open</th>\n",
       "      <th>High</th>\n",
       "      <th>Low</th>\n",
       "      <th>Close</th>\n",
       "      <th>Volume</th>\n",
       "      <th>Dividends</th>\n",
       "      <th>Stock Splits</th>\n",
       "      <th>lret</th>\n",
       "    </tr>\n",
       "  </thead>\n",
       "  <tbody>\n",
       "    <tr>\n",
       "      <th>1</th>\n",
       "      <td>2017-01-04</td>\n",
       "      <td>35.033</td>\n",
       "      <td>35.565</td>\n",
       "      <td>35.015</td>\n",
       "      <td>35.537</td>\n",
       "      <td>2219800</td>\n",
       "      <td>0.0</td>\n",
       "      <td>0.0</td>\n",
       "      <td>0.015055</td>\n",
       "    </tr>\n",
       "    <tr>\n",
       "      <th>2</th>\n",
       "      <td>2017-01-05</td>\n",
       "      <td>35.445</td>\n",
       "      <td>35.634</td>\n",
       "      <td>35.255</td>\n",
       "      <td>35.519</td>\n",
       "      <td>1965800</td>\n",
       "      <td>0.0</td>\n",
       "      <td>0.0</td>\n",
       "      <td>-0.000507</td>\n",
       "    </tr>\n",
       "    <tr>\n",
       "      <th>3</th>\n",
       "      <td>2017-01-06</td>\n",
       "      <td>35.551</td>\n",
       "      <td>35.745</td>\n",
       "      <td>35.408</td>\n",
       "      <td>35.676</td>\n",
       "      <td>1001800</td>\n",
       "      <td>0.0</td>\n",
       "      <td>0.0</td>\n",
       "      <td>0.004410</td>\n",
       "    </tr>\n",
       "    <tr>\n",
       "      <th>4</th>\n",
       "      <td>2017-01-09</td>\n",
       "      <td>35.616</td>\n",
       "      <td>35.699</td>\n",
       "      <td>35.057</td>\n",
       "      <td>35.112</td>\n",
       "      <td>1329800</td>\n",
       "      <td>0.0</td>\n",
       "      <td>0.0</td>\n",
       "      <td>-0.015935</td>\n",
       "    </tr>\n",
       "    <tr>\n",
       "      <th>5</th>\n",
       "      <td>2017-01-10</td>\n",
       "      <td>35.038</td>\n",
       "      <td>35.306</td>\n",
       "      <td>34.779</td>\n",
       "      <td>34.946</td>\n",
       "      <td>2671200</td>\n",
       "      <td>0.0</td>\n",
       "      <td>0.0</td>\n",
       "      <td>-0.004739</td>\n",
       "    </tr>\n",
       "    <tr>\n",
       "      <th>...</th>\n",
       "      <td>...</td>\n",
       "      <td>...</td>\n",
       "      <td>...</td>\n",
       "      <td>...</td>\n",
       "      <td>...</td>\n",
       "      <td>...</td>\n",
       "      <td>...</td>\n",
       "      <td>...</td>\n",
       "      <td>...</td>\n",
       "    </tr>\n",
       "    <tr>\n",
       "      <th>1505</th>\n",
       "      <td>2022-12-23</td>\n",
       "      <td>49.860</td>\n",
       "      <td>50.446</td>\n",
       "      <td>49.558</td>\n",
       "      <td>50.407</td>\n",
       "      <td>745700</td>\n",
       "      <td>0.0</td>\n",
       "      <td>0.0</td>\n",
       "      <td>0.009348</td>\n",
       "    </tr>\n",
       "    <tr>\n",
       "      <th>1506</th>\n",
       "      <td>2022-12-27</td>\n",
       "      <td>50.212</td>\n",
       "      <td>50.768</td>\n",
       "      <td>49.743</td>\n",
       "      <td>50.563</td>\n",
       "      <td>975300</td>\n",
       "      <td>0.0</td>\n",
       "      <td>0.0</td>\n",
       "      <td>0.003090</td>\n",
       "    </tr>\n",
       "    <tr>\n",
       "      <th>1507</th>\n",
       "      <td>2022-12-28</td>\n",
       "      <td>50.280</td>\n",
       "      <td>50.846</td>\n",
       "      <td>49.313</td>\n",
       "      <td>49.382</td>\n",
       "      <td>984100</td>\n",
       "      <td>0.0</td>\n",
       "      <td>0.0</td>\n",
       "      <td>-0.023634</td>\n",
       "    </tr>\n",
       "    <tr>\n",
       "      <th>1508</th>\n",
       "      <td>2022-12-29</td>\n",
       "      <td>49.743</td>\n",
       "      <td>50.719</td>\n",
       "      <td>49.597</td>\n",
       "      <td>50.397</td>\n",
       "      <td>812700</td>\n",
       "      <td>0.0</td>\n",
       "      <td>0.0</td>\n",
       "      <td>0.020346</td>\n",
       "    </tr>\n",
       "    <tr>\n",
       "      <th>1509</th>\n",
       "      <td>2022-12-30</td>\n",
       "      <td>49.948</td>\n",
       "      <td>50.251</td>\n",
       "      <td>49.431</td>\n",
       "      <td>49.929</td>\n",
       "      <td>982800</td>\n",
       "      <td>0.0</td>\n",
       "      <td>0.0</td>\n",
       "      <td>-0.009330</td>\n",
       "    </tr>\n",
       "  </tbody>\n",
       "</table>\n",
       "<p>1509 rows × 9 columns</p>\n",
       "</div>"
      ],
      "text/plain": [
       "            Date    Open    High     Low   Close   Volume  Dividends  \\\n",
       "1     2017-01-04  35.033  35.565  35.015  35.537  2219800        0.0   \n",
       "2     2017-01-05  35.445  35.634  35.255  35.519  1965800        0.0   \n",
       "3     2017-01-06  35.551  35.745  35.408  35.676  1001800        0.0   \n",
       "4     2017-01-09  35.616  35.699  35.057  35.112  1329800        0.0   \n",
       "5     2017-01-10  35.038  35.306  34.779  34.946  2671200        0.0   \n",
       "...          ...     ...     ...     ...     ...      ...        ...   \n",
       "1505  2022-12-23  49.860  50.446  49.558  50.407   745700        0.0   \n",
       "1506  2022-12-27  50.212  50.768  49.743  50.563   975300        0.0   \n",
       "1507  2022-12-28  50.280  50.846  49.313  49.382   984100        0.0   \n",
       "1508  2022-12-29  49.743  50.719  49.597  50.397   812700        0.0   \n",
       "1509  2022-12-30  49.948  50.251  49.431  49.929   982800        0.0   \n",
       "\n",
       "      Stock Splits      lret  \n",
       "1              0.0  0.015055  \n",
       "2              0.0 -0.000507  \n",
       "3              0.0  0.004410  \n",
       "4              0.0 -0.015935  \n",
       "5              0.0 -0.004739  \n",
       "...            ...       ...  \n",
       "1505           0.0  0.009348  \n",
       "1506           0.0  0.003090  \n",
       "1507           0.0 -0.023634  \n",
       "1508           0.0  0.020346  \n",
       "1509           0.0 -0.009330  \n",
       "\n",
       "[1509 rows x 9 columns]"
      ]
     },
     "execution_count": 35,
     "metadata": {},
     "output_type": "execute_result"
    }
   ],
   "source": [
    "ball"
   ]
  },
  {
   "cell_type": "code",
   "execution_count": null,
   "metadata": {},
   "outputs": [],
   "source": [
    "# setting index to Date\n",
    "ball.set_index('Date', inplace=True)\n",
    "ftnt.set_index('Date', inplace=True)\n",
    "grmn.set_index('Date', inplace=True)\n",
    "nke.set_index('Date', inplace=True)\n",
    "vz.set_index('Date', inplace=True)"
   ]
  },
  {
   "cell_type": "code",
   "execution_count": 42,
   "metadata": {},
   "outputs": [],
   "source": [
    "#making a function that calculates loss and gain\n",
    "def highest_gain_loss(company):\n",
    "    gain = company.idxmax()\n",
    "    loss = company.idxmin()\n",
    "    print(f'Highest gain on: {gain}')\n",
    "    print(f'Biggest loss on: {loss}')"
   ]
  },
  {
   "cell_type": "code",
   "execution_count": 43,
   "metadata": {},
   "outputs": [
    {
     "name": "stdout",
     "output_type": "stream",
     "text": [
      "Highest gain on: 2020-03-24\n",
      "Biggest loss on: 2022-08-04\n"
     ]
    }
   ],
   "source": [
    "#BALL\n",
    "highest_gain_loss(ball['lret'])"
   ]
  },
  {
   "cell_type": "code",
   "execution_count": 44,
   "metadata": {},
   "outputs": [
    {
     "name": "stdout",
     "output_type": "stream",
     "text": [
      "Highest gain on: 2020-05-07\n",
      "Biggest loss on: 2022-08-04\n"
     ]
    }
   ],
   "source": [
    "#FTNT\n",
    "highest_gain_loss(ftnt['lret'])"
   ]
  },
  {
   "cell_type": "code",
   "execution_count": 45,
   "metadata": {},
   "outputs": [
    {
     "name": "stdout",
     "output_type": "stream",
     "text": [
      "Highest gain on: 2019-02-20\n",
      "Biggest loss on: 2020-03-12\n"
     ]
    }
   ],
   "source": [
    "#GRMN\n",
    "highest_gain_loss(grmn['lret'])"
   ]
  },
  {
   "cell_type": "code",
   "execution_count": 46,
   "metadata": {},
   "outputs": [
    {
     "name": "stdout",
     "output_type": "stream",
     "text": [
      "Highest gain on: 2021-06-25\n",
      "Biggest loss on: 2022-09-30\n"
     ]
    }
   ],
   "source": [
    "#NKE\n",
    "highest_gain_loss(nke['lret'])"
   ]
  },
  {
   "cell_type": "code",
   "execution_count": 47,
   "metadata": {},
   "outputs": [
    {
     "name": "stdout",
     "output_type": "stream",
     "text": [
      "Highest gain on: 2017-07-27\n",
      "Biggest loss on: 2022-07-22\n"
     ]
    }
   ],
   "source": [
    "#VZ\n",
    "highest_gain_loss(vz['lret'])"
   ]
  },
  {
   "cell_type": "markdown",
   "metadata": {},
   "source": [
    "5. What is the average calendar weekly volume for each company? Hint: check \n",
    "how to resample pandas DF "
   ]
  },
  {
   "cell_type": "markdown",
   "metadata": {},
   "source": [
    "6. Which company recorded the highest total return over the whole period? "
   ]
  },
  {
   "cell_type": "code",
   "execution_count": 102,
   "metadata": {},
   "outputs": [
    {
     "name": "stdout",
     "output_type": "stream",
     "text": [
      "0.11413313771258046\n",
      "0.19249749035815425\n",
      "0.1573102985833032\n",
      "0.14436900098538724\n",
      "0.07398617689140713\n"
     ]
    }
   ],
   "source": [
    "print(ball['lret'].max())\n",
    "print(ftnt['lret'].max())\n",
    "print(grmn['lret'].max())\n",
    "print(nke['lret'].max())\n",
    "print(vz['lret'].max())"
   ]
  },
  {
   "cell_type": "markdown",
   "metadata": {},
   "source": [
    "FTNT company recorded the highest total return"
   ]
  },
  {
   "cell_type": "markdown",
   "metadata": {},
   "source": [
    "7. Create a new column volume_class based on the volume column into \n",
    "categories (e.g., \"Low\", \"Medium\", \"High\", \"Very High\") and use quartile \n",
    "thresholds for the classes. "
   ]
  },
  {
   "cell_type": "code",
   "execution_count": 89,
   "metadata": {},
   "outputs": [
    {
     "data": {
      "text/html": [
       "<div>\n",
       "<style scoped>\n",
       "    .dataframe tbody tr th:only-of-type {\n",
       "        vertical-align: middle;\n",
       "    }\n",
       "\n",
       "    .dataframe tbody tr th {\n",
       "        vertical-align: top;\n",
       "    }\n",
       "\n",
       "    .dataframe thead th {\n",
       "        text-align: right;\n",
       "    }\n",
       "</style>\n",
       "<table border=\"1\" class=\"dataframe\">\n",
       "  <thead>\n",
       "    <tr style=\"text-align: right;\">\n",
       "      <th></th>\n",
       "      <th>Date</th>\n",
       "      <th>Open</th>\n",
       "      <th>High</th>\n",
       "      <th>Low</th>\n",
       "      <th>Close</th>\n",
       "      <th>Volume</th>\n",
       "      <th>Dividends</th>\n",
       "      <th>Stock Splits</th>\n",
       "    </tr>\n",
       "  </thead>\n",
       "  <tbody>\n",
       "    <tr>\n",
       "      <th>0</th>\n",
       "      <td>2017-01-03</td>\n",
       "      <td>34.987</td>\n",
       "      <td>35.191</td>\n",
       "      <td>34.673</td>\n",
       "      <td>35.006</td>\n",
       "      <td>1830600</td>\n",
       "      <td>0.0</td>\n",
       "      <td>0.0</td>\n",
       "    </tr>\n",
       "    <tr>\n",
       "      <th>1</th>\n",
       "      <td>2017-01-04</td>\n",
       "      <td>35.033</td>\n",
       "      <td>35.565</td>\n",
       "      <td>35.015</td>\n",
       "      <td>35.537</td>\n",
       "      <td>2219800</td>\n",
       "      <td>0.0</td>\n",
       "      <td>0.0</td>\n",
       "    </tr>\n",
       "    <tr>\n",
       "      <th>2</th>\n",
       "      <td>2017-01-05</td>\n",
       "      <td>35.445</td>\n",
       "      <td>35.634</td>\n",
       "      <td>35.255</td>\n",
       "      <td>35.519</td>\n",
       "      <td>1965800</td>\n",
       "      <td>0.0</td>\n",
       "      <td>0.0</td>\n",
       "    </tr>\n",
       "    <tr>\n",
       "      <th>3</th>\n",
       "      <td>2017-01-06</td>\n",
       "      <td>35.551</td>\n",
       "      <td>35.745</td>\n",
       "      <td>35.408</td>\n",
       "      <td>35.676</td>\n",
       "      <td>1001800</td>\n",
       "      <td>0.0</td>\n",
       "      <td>0.0</td>\n",
       "    </tr>\n",
       "    <tr>\n",
       "      <th>4</th>\n",
       "      <td>2017-01-09</td>\n",
       "      <td>35.616</td>\n",
       "      <td>35.699</td>\n",
       "      <td>35.057</td>\n",
       "      <td>35.112</td>\n",
       "      <td>1329800</td>\n",
       "      <td>0.0</td>\n",
       "      <td>0.0</td>\n",
       "    </tr>\n",
       "    <tr>\n",
       "      <th>...</th>\n",
       "      <td>...</td>\n",
       "      <td>...</td>\n",
       "      <td>...</td>\n",
       "      <td>...</td>\n",
       "      <td>...</td>\n",
       "      <td>...</td>\n",
       "      <td>...</td>\n",
       "      <td>...</td>\n",
       "    </tr>\n",
       "    <tr>\n",
       "      <th>1505</th>\n",
       "      <td>2022-12-23</td>\n",
       "      <td>49.860</td>\n",
       "      <td>50.446</td>\n",
       "      <td>49.558</td>\n",
       "      <td>50.407</td>\n",
       "      <td>745700</td>\n",
       "      <td>0.0</td>\n",
       "      <td>0.0</td>\n",
       "    </tr>\n",
       "    <tr>\n",
       "      <th>1506</th>\n",
       "      <td>2022-12-27</td>\n",
       "      <td>50.212</td>\n",
       "      <td>50.768</td>\n",
       "      <td>49.743</td>\n",
       "      <td>50.563</td>\n",
       "      <td>975300</td>\n",
       "      <td>0.0</td>\n",
       "      <td>0.0</td>\n",
       "    </tr>\n",
       "    <tr>\n",
       "      <th>1507</th>\n",
       "      <td>2022-12-28</td>\n",
       "      <td>50.280</td>\n",
       "      <td>50.846</td>\n",
       "      <td>49.313</td>\n",
       "      <td>49.382</td>\n",
       "      <td>984100</td>\n",
       "      <td>0.0</td>\n",
       "      <td>0.0</td>\n",
       "    </tr>\n",
       "    <tr>\n",
       "      <th>1508</th>\n",
       "      <td>2022-12-29</td>\n",
       "      <td>49.743</td>\n",
       "      <td>50.719</td>\n",
       "      <td>49.597</td>\n",
       "      <td>50.397</td>\n",
       "      <td>812700</td>\n",
       "      <td>0.0</td>\n",
       "      <td>0.0</td>\n",
       "    </tr>\n",
       "    <tr>\n",
       "      <th>1509</th>\n",
       "      <td>2022-12-30</td>\n",
       "      <td>49.948</td>\n",
       "      <td>50.251</td>\n",
       "      <td>49.431</td>\n",
       "      <td>49.929</td>\n",
       "      <td>982800</td>\n",
       "      <td>0.0</td>\n",
       "      <td>0.0</td>\n",
       "    </tr>\n",
       "  </tbody>\n",
       "</table>\n",
       "<p>1510 rows × 8 columns</p>\n",
       "</div>"
      ],
      "text/plain": [
       "           Date    Open    High     Low   Close   Volume  Dividends  \\\n",
       "0    2017-01-03  34.987  35.191  34.673  35.006  1830600        0.0   \n",
       "1    2017-01-04  35.033  35.565  35.015  35.537  2219800        0.0   \n",
       "2    2017-01-05  35.445  35.634  35.255  35.519  1965800        0.0   \n",
       "3    2017-01-06  35.551  35.745  35.408  35.676  1001800        0.0   \n",
       "4    2017-01-09  35.616  35.699  35.057  35.112  1329800        0.0   \n",
       "...         ...     ...     ...     ...     ...      ...        ...   \n",
       "1505 2022-12-23  49.860  50.446  49.558  50.407   745700        0.0   \n",
       "1506 2022-12-27  50.212  50.768  49.743  50.563   975300        0.0   \n",
       "1507 2022-12-28  50.280  50.846  49.313  49.382   984100        0.0   \n",
       "1508 2022-12-29  49.743  50.719  49.597  50.397   812700        0.0   \n",
       "1509 2022-12-30  49.948  50.251  49.431  49.929   982800        0.0   \n",
       "\n",
       "      Stock Splits  \n",
       "0              0.0  \n",
       "1              0.0  \n",
       "2              0.0  \n",
       "3              0.0  \n",
       "4              0.0  \n",
       "...            ...  \n",
       "1505           0.0  \n",
       "1506           0.0  \n",
       "1507           0.0  \n",
       "1508           0.0  \n",
       "1509           0.0  \n",
       "\n",
       "[1510 rows x 8 columns]"
      ]
     },
     "execution_count": 89,
     "metadata": {},
     "output_type": "execute_result"
    }
   ],
   "source": [
    "ball"
   ]
  },
  {
   "cell_type": "code",
   "execution_count": 107,
   "metadata": {},
   "outputs": [
    {
     "data": {
      "text/plain": [
       "0.2    1497660.0\n",
       "0.4    1854360.0\n",
       "0.6    2276700.0\n",
       "0.8    2937640.0\n",
       "Name: Volume, dtype: float64"
      ]
     },
     "execution_count": 107,
     "metadata": {},
     "output_type": "execute_result"
    }
   ],
   "source": [
    "ball['Volume'].quantile([0.2, 0.4, 0.6,0.8])"
   ]
  },
  {
   "cell_type": "markdown",
   "metadata": {},
   "source": [
    "8. A. Plot the log-returns of the companies (ideally in the same plot). \n",
    "B. Show the log-return distribution of the companies (ideally in the same plot). "
   ]
  },
  {
   "cell_type": "code",
   "execution_count": null,
   "metadata": {},
   "outputs": [
    {
     "name": "stderr",
     "output_type": "stream",
     "text": [
      "C:\\Users\\Kateřina\\AppData\\Local\\Temp\\ipykernel_51896\\4219931672.py:6: UserWarning: No artists with labels found to put in legend.  Note that artists whose label start with an underscore are ignored when legend() is called with no argument.\n",
      "  plt.legend()\n"
     ]
    },
    {
     "data": {
      "text/plain": [
       "<matplotlib.legend.Legend at 0x210e8a54080>"
      ]
     },
     "execution_count": 105,
     "metadata": {},
     "output_type": "execute_result"
    },
    {
     "data": {
      "image/png": "[encoded data removed]",
      "text/plain": [
       "<Figure size 640x480 with 1 Axes>"
      ]
     },
     "metadata": {},
     "output_type": "display_data"
    }
   ],
   "source": [
    "plt.plot(grmn['lret'])\n",
    "plt.plot(vz['lret'])\n",
    "plt.plot(ftnt['lret'])\n",
    "plt.plot(ball['lret'])\n",
    "plt.plot(nke['lret'])"
   ]
  },
  {
   "cell_type": "code",
   "execution_count": 98,
   "metadata": {},
   "outputs": [],
   "source": [
    "import seaborn as sns"
   ]
  },
  {
   "cell_type": "code",
   "execution_count": null,
   "metadata": {},
   "outputs": [
    {
     "data": {
      "text/plain": [
       "<Axes: xlabel='lret', ylabel='Density'>"
      ]
     },
     "execution_count": 99,
     "metadata": {},
     "output_type": "execute_result"
    },
    {
     "data": {
      "image/png": "[encoded data removed]",
      "text/plain": [
       "<Figure size 640x480 with 1 Axes>"
      ]
     },
     "metadata": {},
     "output_type": "display_data"
    }
   ],
   "source": [
    "sns.kdeplot(grmn['lret'])\n",
    "sns.kdeplot(vz['lret'])\n",
    "sns.kdeplot(ftnt['lret'])\n",
    "sns.kdeplot(ball['lret'])\n",
    "sns.kdeplot(nke['lret'])\n",
    "\n"
   ]
  }
 ],
 "metadata": {
  "kernelspec": {
   "display_name": "Python 3",
   "language": "python",
   "name": "python3"
  },
  "language_info": {
   "codemirror_mode": {
    "name": "ipython",
    "version": 3
   },
   "file_extension": ".py",
   "mimetype": "text/x-python",
   "name": "python",
   "nbconvert_exporter": "python",
   "pygments_lexer": "ipython3",
   "version": "3.12.6"
  }
 },
 "nbformat": 4,
 "nbformat_minor": 2
}
